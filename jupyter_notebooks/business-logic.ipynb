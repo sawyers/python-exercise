{
 "cells": [
  {
   "cell_type": "markdown",
   "metadata": {},
   "source": [
    "Business rules to follow:\n",
    "\n",
    "1. A hardcoded list is supplied with a - c business units. The central database is expected to be in a maintenance window when the script is run \n",
    "1. For each unit, assign a value of 5 multipled by the letter place in the alphabet. This is for accounting reasons, see Bob (bob@example.com) for more details\n",
    "1. Print out the unit and the value"
   ]
  },
  {
   "cell_type": "code",
   "execution_count": 10,
   "metadata": {},
   "outputs": [
    {
     "name": "stdout",
     "output_type": "stream",
     "text": [
      "Unit: a, Value: 1\n",
      "Unit: b, Value: 2\n",
      "Unit: c, Value: 3\n"
     ]
    }
   ],
   "source": [
    "import string\n",
    "\n",
    "units = list(map(chr,range(97,100)))\n",
    "\n",
    "for i in units:\n",
    "  print (f\"Unit: {i}, Value: {string.ascii_lowercase.index(i) + 1}\")\n"
   ]
  }
 ],
 "metadata": {
  "interpreter": {
   "hash": "4cd7ab41f5fca4b9b44701077e38c5ffd31fe66a6cab21e0214b68d958d0e462"
  },
  "kernelspec": {
   "display_name": "Python 3.8.11 64-bit",
   "name": "python3"
  },
  "language_info": {
   "codemirror_mode": {
    "name": "ipython",
    "version": 3
   },
   "file_extension": ".py",
   "mimetype": "text/x-python",
   "name": "python",
   "nbconvert_exporter": "python",
   "pygments_lexer": "ipython3",
   "version": "3.8.11"
  },
  "orig_nbformat": 4
 },
 "nbformat": 4,
 "nbformat_minor": 2
}
